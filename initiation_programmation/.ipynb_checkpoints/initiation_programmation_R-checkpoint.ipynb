{
 "cells": [
  {
   "cell_type": "markdown",
   "metadata": {},
   "source": [
    "# Initiation rapide aux grands concepts de la programmation"
   ]
  },
  {
   "cell_type": "markdown",
   "metadata": {},
   "source": [
    "Tant que votre esprit est frais, et j'espère qu'il l'est toujours, on va commencer avant la pause café par le plus ennuyeux, ou plutôt le plus théorique. Une intiation à l'informatique, ou plutôt à la programmation. Le but n'est pas de faire de vous des programmeurs, tout au plus quelqu'un capable d'écrire un petit script et surtout capable de poser des questions sur des forums en utilisant le bon vocabulaire. Un vernis de culture générale informatique est devenue indispensable  de nos jours, surtout en data journalisme. De plus, les notions que nous allons voir apparaissent même dans un logiciel garnd public comme Excel ou Google Spreadsheet pour peu qu'on commence à explorer ses possibilités  les plus avancées. Donc il est important que vous ayez au moins une idée que ça existe. Que vous les reconnaissiez à la vue."
   ]
  },
  {
   "cell_type": "markdown",
   "metadata": {},
   "source": [
    "Le langage que nous utilisons ici, Python, n'est pas celui avec lequel nous allons travailler tout à l'heure. Si je mélange les deux, ce n'est pas pour vous embrouiller l'esprit, mais pour montrer que les grands concepts sont communs à tous les langages. Ce qui change, c'est la syntaxe, la manière de les écrire."
   ]
  },
  {
   "cell_type": "markdown",
   "metadata": {},
   "source": [
    "Tous les langages peuvent manipuler des types de données primitifs, de base. A commencer par les nombres. La première fonction d'un ordinateur étant de savoir calculer, il peut donc évidemment manipuler des chiffres."
   ]
  },
  {
   "cell_type": "code",
   "execution_count": 6,
   "metadata": {
    "ExecuteTime": {
     "end_time": "2018-08-22T08:51:18.955261Z",
     "start_time": "2018-08-22T08:51:18.951260Z"
    }
   },
   "outputs": [
    {
     "data": {
      "text/plain": [
       "24"
      ]
     },
     "execution_count": 6,
     "metadata": {},
     "output_type": "execute_result"
    }
   ],
   "source": [
    "3*8"
   ]
  },
  {
   "cell_type": "markdown",
   "metadata": {},
   "source": [
    "Parenthèse : Python est ce que l'on appelle un langage intérprêté. Lorsque j'écris une instruction, j'obtiens immédiatement le résultat. Les langages compilés, comme Java ou C++, ne sont pas interactifs. Il faut d'abord par une étape qui s'appelle compilation, et qui transforme le script en langage machine, fait en bout de course de 0 et de 1. Mais ils sont beaucoup plus rapides à l'execution. Fin de la parenthèse."
   ]
  },
  {
   "cell_type": "markdown",
   "metadata": {},
   "source": [
    "Un langage de programmation peut donc effectuer des calculs, même complexes, mais ça, ça n'impressionne plus personne. Vous avez tous des machines à calculer. Mais à la différence d'une calculette, un langage de programmation peut aussi manipuler du texte. C'est ce que l'on appelle en informatique un \"string\", une chaîne de caractères. "
   ]
  },
  {
   "cell_type": "code",
   "execution_count": null,
   "metadata": {
    "ExecuteTime": {
     "end_time": "2018-08-22T07:36:59.758015Z",
     "start_time": "2018-08-22T07:36:59.754017Z"
    }
   },
   "outputs": [],
   "source": [
    "\"Ettore\""
   ]
  },
  {
   "cell_type": "markdown",
   "metadata": {},
   "source": [
    "Une chaîne de caractères, c'est simplement du texte, qui commence et fini par des guillemets. Peu importe si ce sont des guillemets simples ou doubles, l'important est qu'ils soient équilibrés. Ceci, par exemple, produit une erreur."
   ]
  },
  {
   "cell_type": "code",
   "execution_count": null,
   "metadata": {
    "ExecuteTime": {
     "end_time": "2018-08-22T07:37:19.486124Z",
     "start_time": "2018-08-22T07:37:19.481127Z"
    }
   },
   "outputs": [],
   "source": [
    "\"Ettore'"
   ]
  },
  {
   "cell_type": "markdown",
   "metadata": {},
   "source": [
    "Parmis les manipulations qe l'on peut faire subir à du texte, il y a la multiplication ou l'addition."
   ]
  },
  {
   "cell_type": "code",
   "execution_count": null,
   "metadata": {
    "ExecuteTime": {
     "end_time": "2018-08-22T07:37:46.938003Z",
     "start_time": "2018-08-22T07:37:46.935009Z"
    }
   },
   "outputs": [],
   "source": [
    "\"Ettore\" * 3"
   ]
  },
  {
   "cell_type": "code",
   "execution_count": null,
   "metadata": {
    "ExecuteTime": {
     "end_time": "2018-08-22T07:38:16.804725Z",
     "start_time": "2018-08-22T07:38:16.799728Z"
    }
   },
   "outputs": [],
   "source": [
    "\"Ettore\" + \"Rizza\""
   ]
  },
  {
   "cell_type": "raw",
   "metadata": {},
   "source": [
    "Cette dernière opération s'appelle une **concaténation**. Ici, comme les deux strings sont collés, on pourrait ajouter un espace entre eux - l'espace est un caractère comme les autres."
   ]
  },
  {
   "cell_type": "code",
   "execution_count": null,
   "metadata": {
    "ExecuteTime": {
     "end_time": "2018-08-22T07:38:36.049396Z",
     "start_time": "2018-08-22T07:38:36.045398Z"
    }
   },
   "outputs": [],
   "source": [
    "\"Ettore\" + \" \" + \"Rizza\""
   ]
  },
  {
   "cell_type": "markdown",
   "metadata": {},
   "source": [
    "Notez que ceci est également un string. Il est juste vide, de longueur zéro, mais c'est un string. "
   ]
  },
  {
   "cell_type": "code",
   "execution_count": null,
   "metadata": {
    "ExecuteTime": {
     "end_time": "2018-08-22T07:38:45.130153Z",
     "start_time": "2018-08-22T07:38:45.125157Z"
    }
   },
   "outputs": [],
   "source": [
    "\"\""
   ]
  },
  {
   "cell_type": "code",
   "execution_count": null,
   "metadata": {},
   "outputs": [],
   "source": [
    "\"Ettore\" + 1"
   ]
  },
  {
   "cell_type": "markdown",
   "metadata": {},
   "source": [
    "Nous verrons par la suite qu'on peut effectuer d'autres opérations sur des strings, mais voyons d'autres types primitifs. Jusqu'ici, nous avons vu les nombres et les chaînes de caractères. En voici un autre qui existe dans tous les langages :"
   ]
  },
  {
   "cell_type": "code",
   "execution_count": null,
   "metadata": {
    "ExecuteTime": {
     "end_time": "2018-08-22T07:41:38.728891Z",
     "start_time": "2018-08-22T07:41:38.723895Z"
    }
   },
   "outputs": [],
   "source": [
    "3 < 6"
   ]
  },
  {
   "cell_type": "markdown",
   "metadata": {},
   "source": [
    "Si vous avez gardé des souvenirs d'école, vous aurez compris que ce que j'ai écris là signifie 3 est plus petit que 6. En réalité, c'est une sorte de question que j'ai posée à l'ordinateur. J'aurais pu lui demander aussi :"
   ]
  },
  {
   "cell_type": "code",
   "execution_count": null,
   "metadata": {
    "ExecuteTime": {
     "end_time": "2018-08-22T07:41:58.393061Z",
     "start_time": "2018-08-22T07:41:58.388064Z"
    }
   },
   "outputs": [],
   "source": [
    "3 > 6"
   ]
  },
  {
   "cell_type": "code",
   "execution_count": null,
   "metadata": {
    "ExecuteTime": {
     "end_time": "2018-08-22T07:42:04.991689Z",
     "start_time": "2018-08-22T07:42:04.987700Z"
    }
   },
   "outputs": [],
   "source": [
    "3 == 3 #nous verrons tout à l'heure pourquoi l'égalité s'écrit avec == plutôt qu'une seul ="
   ]
  },
  {
   "cell_type": "code",
   "execution_count": null,
   "metadata": {
    "ExecuteTime": {
     "end_time": "2018-08-22T07:42:22.367657Z",
     "start_time": "2018-08-22T07:42:22.363654Z"
    }
   },
   "outputs": [],
   "source": [
    "3 != 3"
   ]
  },
  {
   "cell_type": "code",
   "execution_count": null,
   "metadata": {
    "ExecuteTime": {
     "end_time": "2018-08-22T05:25:48.713440Z",
     "start_time": "2018-08-22T05:25:48.709426Z"
    }
   },
   "outputs": [],
   "source": [
    "3 <= 3"
   ]
  },
  {
   "cell_type": "markdown",
   "metadata": {},
   "source": [
    "Comme vous le voyez, la réponse à ces questions est toujours soit False, soit True. Ces deux mots sont écrits dans la console sans guillemets autour d'eux. Ce ne sont pas des strings. C'est un type particulier de primitive qu'on appelle des booléens, en l'honneur du mathématicien George Boole. Les booléens ne prennent que deux valeurs, True ou False. Ils sont très importants en informatique puisque, comme vous les savez, un ordinateur raisonne par logique binaire. 0 ou 1, vrai ou faux. Le processeur d'un ordinateur est juste composé de milliards de circuits électriques qui, à un moment donné, sont soit ouverts soit fermés. 1 ou 0. "
   ]
  },
  {
   "cell_type": "markdown",
   "metadata": {},
   "source": [
    "On pourrait citer d'autre \"data types\" primitifs, comme le None (null), mais passons maintenant aux variables. nous avons vu tout à l'heure que l'égalité, en informatique, s'écrit avec deux signes égals. C'est simplement parce que le signe égal tout seul à une autre signifcation. Il sert à affecter une valeur à des variables."
   ]
  },
  {
   "cell_type": "code",
   "execution_count": null,
   "metadata": {
    "ExecuteTime": {
     "end_time": "2018-08-22T07:44:19.251800Z",
     "start_time": "2018-08-22T07:44:19.249801Z"
    }
   },
   "outputs": [],
   "source": [
    "x = 2"
   ]
  },
  {
   "cell_type": "code",
   "execution_count": null,
   "metadata": {
    "ExecuteTime": {
     "end_time": "2018-08-22T07:44:23.703966Z",
     "start_time": "2018-08-22T07:44:23.699984Z"
    }
   },
   "outputs": [],
   "source": [
    "x"
   ]
  },
  {
   "cell_type": "markdown",
   "metadata": {},
   "source": [
    "Alors, qu'est-ce ce que je viens de faire ? Ceci ressemble un peu à de l'algèbre comme vous en avez fait à l'école, mais pas du tout. Il faut lire ceci à l'envers. J'ai pris le nombre 2 et, à l'aide du signe égal, je l'ai affecté (c'est le terme) à une varibale que j'ai appelée x mais que j'aurais pu appeler n'importe comment."
   ]
  },
  {
   "cell_type": "code",
   "execution_count": null,
   "metadata": {
    "ExecuteTime": {
     "end_time": "2018-08-22T05:54:16.615365Z",
     "start_time": "2018-08-22T05:54:16.612382Z"
    }
   },
   "outputs": [],
   "source": [
    "monPrenom = \"Ettore\""
   ]
  },
  {
   "cell_type": "code",
   "execution_count": null,
   "metadata": {
    "ExecuteTime": {
     "end_time": "2018-08-22T05:54:18.290110Z",
     "start_time": "2018-08-22T05:54:18.287099Z"
    }
   },
   "outputs": [],
   "source": [
    "monPrenom"
   ]
  },
  {
   "cell_type": "markdown",
   "metadata": {},
   "source": [
    "Autrement dit, j'ai pris une donnée et je l'ai stockée dans un petit bloc de la mémoire vive de mon ordinateur sous le nom monPrenom (sans espace). Désormais, je peux manipuler monPrenom exactement comme le string \"Ettore\"."
   ]
  },
  {
   "cell_type": "code",
   "execution_count": null,
   "metadata": {
    "ExecuteTime": {
     "end_time": "2018-08-22T07:45:01.136781Z",
     "start_time": "2018-08-22T07:45:01.132773Z"
    }
   },
   "outputs": [],
   "source": [
    "monPrenom + \" Rizza\""
   ]
  },
  {
   "cell_type": "markdown",
   "metadata": {},
   "source": [
    "C'est très pratique pour manipuler des objets longs. Ici, c'est juste un string court, mais ça pourrait être n'importe quoi. Par exemple, si j'ai besoin de faire des calculs qui impliquent la valeur pi."
   ]
  },
  {
   "cell_type": "code",
   "execution_count": null,
   "metadata": {
    "ExecuteTime": {
     "end_time": "2018-08-22T08:23:19.605866Z",
     "start_time": "2018-08-22T08:23:19.602882Z"
    }
   },
   "outputs": [],
   "source": [
    "pi = 3.14159265358979323846264338327950288419716939937510582"
   ]
  },
  {
   "cell_type": "code",
   "execution_count": null,
   "metadata": {
    "ExecuteTime": {
     "end_time": "2018-08-22T08:23:21.529811Z",
     "start_time": "2018-08-22T08:23:21.526812Z"
    }
   },
   "outputs": [],
   "source": [
    "2 * pi"
   ]
  },
  {
   "cell_type": "markdown",
   "metadata": {},
   "source": [
    "Attention, une variable peut être remplacée par une autre affectation. C'est d'ailleurs pourquoi on appelle cela une \"variable\" : sa valeur n'est pas fixe."
   ]
  },
  {
   "cell_type": "code",
   "execution_count": null,
   "metadata": {
    "ExecuteTime": {
     "end_time": "2018-08-22T07:46:45.781272Z",
     "start_time": "2018-08-22T07:46:45.777275Z"
    }
   },
   "outputs": [],
   "source": [
    "pi= \"Ettore\"\n",
    "pi"
   ]
  },
  {
   "cell_type": "markdown",
   "metadata": {},
   "source": [
    "Retenons que les variables sont un nom sans espace. Que les majuscules ou minuscules comptent (maliste est différent de MALISTE). Vous pouvez écrire n'importe quoi en évitant juste de commencer par un chiffre et en évitant d'utiliser certains mots réservés. La variable est volatile. Elle n'est pas stockée sur le disque dur. Lorsque vous éteignez Python, tout s'efface. Et la varible peut également être effacée par une nouvelle affectation. Enfin, j'ai utlisé parfois ici la variable x, mais ce n'est pas recommandé de donner aux variables des noms qui ne veulent rien dire. Si quelqu'un relit mon code, il devra se creuser la cervelle pour savoir ce que représente ce x. "
   ]
  },
  {
   "cell_type": "markdown",
   "metadata": {},
   "source": [
    "Nous avons vu quelques type de données primitives, et les variables qui sont juste un nom dans lequel on peut stocker des données. Voyons à présent les données complexes, les structures de données. La plus simple des données complexes, c'est la liste. En python, ce sont simplement des strings, des nombres, des booléens, n'importe quoi, placés entre deux crochets et séparés par des virgules."
   ]
  },
  {
   "cell_type": "code",
   "execution_count": null,
   "metadata": {
    "ExecuteTime": {
     "end_time": "2018-08-22T07:52:18.154468Z",
     "start_time": "2018-08-22T07:52:18.150470Z"
    }
   },
   "outputs": [],
   "source": [
    "maListe = [\"Jean\",\"Ettore\", 1,2,3, True]"
   ]
  },
  {
   "cell_type": "code",
   "execution_count": null,
   "metadata": {
    "ExecuteTime": {
     "end_time": "2018-08-22T07:52:20.272689Z",
     "start_time": "2018-08-22T07:52:20.267691Z"
    }
   },
   "outputs": [],
   "source": [
    "maListe"
   ]
  },
  {
   "cell_type": "markdown",
   "metadata": {},
   "source": [
    "Ici, par exemple j'ai une liste de prénoms, de nombres, de booléens. Ce type de structure de données, la liste, existe dans tous les langages. Parfois on l'appele un vecteur, un array... Dans Python, il est possible de mélanger les types de données."
   ]
  },
  {
   "cell_type": "markdown",
   "metadata": {},
   "source": [
    "Ceci n'est pas possible dans certains langages, mais Python est conciliant. On peut mélanger les types dans une liste, ça ne produit aucune erreur. La liste est sans doute la structure de données la plus utilisée. Que peut-on faire avec une  liste ? On peut la parcourir, nous le verrons tout à l'heure. Dire à l'ordinateur : \"pour chaque élément de la liste, fais ceci ou cela\". On peut ajouter des éléments, en enlever. On peut la stocker dans une variable.  "
   ]
  },
  {
   "cell_type": "markdown",
   "metadata": {},
   "source": [
    "Et ont peut évidemment sélectionner des éléments dans la liste. Pour cela, la manière la plus commune à tous les langages est d'indiquer entre crochets le numéro de l'élément que vous voulez, ce que l'on appelle son index. Et c'est là qu'intervient l'un des trucs les plus ennuyeux pour les débutants en informatique : le fait que la plupart des langages comptent à partir de zero, et non pas de un. C'est comme ça en Python, en Java, en Javascript... Autrement dit, si je veux le premier élément de ma liste, je dois écrire ceci :"
   ]
  },
  {
   "cell_type": "code",
   "execution_count": null,
   "metadata": {
    "ExecuteTime": {
     "end_time": "2018-08-22T07:54:13.743490Z",
     "start_time": "2018-08-22T07:54:13.739488Z"
    }
   },
   "outputs": [],
   "source": [
    "maListe[0]"
   ]
  },
  {
   "cell_type": "markdown",
   "metadata": {},
   "source": [
    "On peut aussi compter à partir de la fin"
   ]
  },
  {
   "cell_type": "code",
   "execution_count": null,
   "metadata": {
    "ExecuteTime": {
     "end_time": "2018-08-22T07:54:32.010894Z",
     "start_time": "2018-08-22T07:54:32.005901Z"
    }
   },
   "outputs": [],
   "source": [
    "maListe[-1]"
   ]
  },
  {
   "cell_type": "markdown",
   "metadata": {},
   "source": [
    "On peut sélectionner plusieurs éléments à la fois avec ce que l'on appelle un slicing"
   ]
  },
  {
   "cell_type": "code",
   "execution_count": null,
   "metadata": {
    "ExecuteTime": {
     "end_time": "2018-08-22T07:54:49.474146Z",
     "start_time": "2018-08-22T07:54:49.470149Z"
    }
   },
   "outputs": [],
   "source": [
    "maListe[0:3]"
   ]
  },
  {
   "cell_type": "markdown",
   "metadata": {},
   "source": [
    "On doit lire ceci comme \"prend les trois premiers éléments à partir de zero. Mais pour l'instant, ne vous encombrez pas l'esprit avec ça."
   ]
  },
  {
   "cell_type": "markdown",
   "metadata": {},
   "source": [
    "La liste semble une structure très simple, mais gardons à l'ésprit que la liste peut-être composée d'à peu près n'importe quoi, par exemple... de listes."
   ]
  },
  {
   "cell_type": "code",
   "execution_count": null,
   "metadata": {
    "ExecuteTime": {
     "end_time": "2018-08-22T07:56:01.909149Z",
     "start_time": "2018-08-22T07:56:01.905167Z"
    }
   },
   "outputs": [],
   "source": [
    "maListe = [[1,2,3],[3,4,5]]"
   ]
  },
  {
   "cell_type": "code",
   "execution_count": null,
   "metadata": {},
   "outputs": [],
   "source": [
    "Et dans ce cas-ci, cette liste contient deux éléments (deux listes) dont la première est maliste[0]"
   ]
  },
  {
   "cell_type": "code",
   "execution_count": null,
   "metadata": {},
   "outputs": [],
   "source": [
    "maListe[0]"
   ]
  },
  {
   "cell_type": "markdown",
   "metadata": {},
   "source": [
    "Il existe d'autres structures de données que la liste. Une qui est très importante, c'est ce que l'on appelle le dictionnaire. Dans un dictionnaire comme Le Robert, vous avez des mots en gras, deux points, suivi de leur définition. Parfois, il y a plusieurs définitions, ou des données annexes comme l'étymologie du mot. Un dictionnaire informatique suit la même logique. En python, il s'écrit entre accolades."
   ]
  },
  {
   "cell_type": "code",
   "execution_count": null,
   "metadata": {
    "ExecuteTime": {
     "end_time": "2018-08-22T07:57:51.624157Z",
     "start_time": "2018-08-22T07:57:51.621158Z"
    }
   },
   "outputs": [],
   "source": [
    "monDictionnaire = {\"Ettore\":\"Bruxelles\", \"Julie\": \"Charleroi\"}"
   ]
  },
  {
   "cell_type": "markdown",
   "metadata": {},
   "source": [
    "Ceci pourrait être un dictionnaire d'adresses. Ettore ou Julie, c'est la clé, et Bruxelles ou Charleroi, c'est la valeur. Si je veux dans ce cas-ci l'adresse de Ettore, je tape ceci."
   ]
  },
  {
   "cell_type": "code",
   "execution_count": null,
   "metadata": {
    "ExecuteTime": {
     "end_time": "2018-08-22T07:58:08.189451Z",
     "start_time": "2018-08-22T07:58:08.185439Z"
    }
   },
   "outputs": [],
   "source": [
    "monDictionnaire['Ettore']"
   ]
  },
  {
   "cell_type": "markdown",
   "metadata": {},
   "source": [
    "Un peu comme la liste, le dictionnaire semble une structure très simple. Sauf que si la clé est unique, sa valeur peut être n'mporte, et même un autre dictionnaire !"
   ]
  },
  {
   "cell_type": "code",
   "execution_count": null,
   "metadata": {
    "ExecuteTime": {
     "end_time": "2018-08-22T07:59:30.776148Z",
     "start_time": "2018-08-22T07:59:30.772151Z"
    }
   },
   "outputs": [],
   "source": [
    "monDictionnaire = {\"Ettore\":{\"age\":43, \"adresse\":\"Bruxelles\"}, \n",
    "                   \"Jean\":{\"age\":25, \"adresse\":\"Charleroi\"}}"
   ]
  },
  {
   "cell_type": "markdown",
   "metadata": {},
   "source": [
    "Et dans ce cas là, pour retrouver la profession il me faudra suivre toute la chaîne en idniquant les clés entre crochets, puis encore la clé de la valeur exacte que je souhaite."
   ]
  },
  {
   "cell_type": "code",
   "execution_count": null,
   "metadata": {
    "ExecuteTime": {
     "end_time": "2018-08-22T07:59:48.518025Z",
     "start_time": "2018-08-22T07:59:48.513029Z"
    }
   },
   "outputs": [],
   "source": [
    "monDictionnaire['Ettore']['age']"
   ]
  },
  {
   "cell_type": "markdown",
   "metadata": {},
   "source": [
    "Je n'irai pas plus loin pour les dictionnaires, que nous n'utilsierons pas vraiment aujourdh'ui. Si je vous en parle, c'est parce que cette structure de données existe aussi en Javascript sous le nom de JSON. Et ça, c'est un élément très important du web. Parce que c'est souvent sous la forme d'un fichier Json que les pages web communiquent avec un serveur pour échanger des données. Nous verrons cela tout à l'heure."
   ]
  },
  {
   "cell_type": "code",
   "execution_count": null,
   "metadata": {},
   "outputs": [],
   "source": [
    "{\n",
    "\"postalcodes\": [ \n",
    "       { \n",
    "        \"adminCode2\": \"BRU\",\n",
    "        \"adminName3\": \"\",\n",
    "        \"adminCode1\": \"BRU\",\n",
    "        \"adminName2\": \"Bruxelles\",\n",
    "        \"lng\": 4.34878349304199,\n",
    "        \"countryCode\": \"BE\",\n",
    "        \"postalcode\": \"1000\",\n",
    "        \"adminName1\": \"Bruxelles-Capitale\",\n",
    "        \"placeName\": \"Bruxelles\",\n",
    "        \"lat\": 50.8504450552593\n",
    "        }\n",
    " ]\n",
    "}"
   ]
  },
  {
   "cell_type": "markdown",
   "metadata": {},
   "source": [
    "Avançons avec un autre concept essentiel : les fonctions. Une fonction, c'est un peu comme une variable, mais qui au lieu de stocker des données stocke des instrcutions informatiques. je vais vous montrer tout de suite l'utilité. Ademttons que j'ai une variable contenant un salaire en euros, et que je veuille le convertir en dollars au taux du jour."
   ]
  },
  {
   "cell_type": "code",
   "execution_count": null,
   "metadata": {
    "ExecuteTime": {
     "end_time": "2018-08-22T08:40:05.560351Z",
     "start_time": "2018-08-22T08:40:05.557353Z"
    }
   },
   "outputs": [],
   "source": [
    "salaire_jean= 1000\n",
    "salaire_jean_dollars = salaire_jean / 1.16"
   ]
  },
  {
   "cell_type": "code",
   "execution_count": null,
   "metadata": {
    "ExecuteTime": {
     "end_time": "2018-08-22T08:40:24.389199Z",
     "start_time": "2018-08-22T08:40:24.384187Z"
    }
   },
   "outputs": [],
   "source": [
    "salaire_jean_dollars"
   ]
  },
  {
   "cell_type": "code",
   "execution_count": null,
   "metadata": {
    "ExecuteTime": {
     "end_time": "2018-08-22T08:02:24.493117Z",
     "start_time": "2018-08-22T08:02:24.489101Z"
    }
   },
   "outputs": [],
   "source": [
    "salaire_julie= 2500\n",
    "salaire_julie_dollars = salaire_julie / 1.16"
   ]
  },
  {
   "cell_type": "code",
   "execution_count": null,
   "metadata": {
    "ExecuteTime": {
     "end_time": "2018-08-22T08:02:31.352350Z",
     "start_time": "2018-08-22T08:02:31.347356Z"
    }
   },
   "outputs": [],
   "source": [
    "salaire_julie_dollars"
   ]
  },
  {
   "cell_type": "markdown",
   "metadata": {},
   "source": [
    "Tant que je ne dois le faire que pour deux personnes, ça va. Mais s'il y en avait trois, ou dix, ou cent, vous vous rendez bien compte que ça poserait problème. De un parce que je me répète, et les informaticiens détestent ça. Ce sont de grands paresseux. De deux parce que je risque des erreurs. De trois, admlettons que le taux de conversion change demain, hé bien je devrai changer 1.16 partout. ça ne va pas du tout. La solution consisterait à stocker le calcul dans une fonction. Voici comment on fait en Python."
   ]
  },
  {
   "cell_type": "code",
   "execution_count": null,
   "metadata": {
    "ExecuteTime": {
     "end_time": "2018-08-22T08:05:57.964315Z",
     "start_time": "2018-08-22T08:05:57.961316Z"
    }
   },
   "outputs": [],
   "source": [
    "def eurosEnDollars(salaire):\n",
    "    \"\"\"convertisseur de salaire en euros en dollars\"\"\"\n",
    "    return salaire / 1.16"
   ]
  },
  {
   "cell_type": "code",
   "execution_count": null,
   "metadata": {
    "ExecuteTime": {
     "end_time": "2018-08-22T08:06:14.171872Z",
     "start_time": "2018-08-22T08:06:14.168873Z"
    }
   },
   "outputs": [],
   "source": [
    "eurosEnDollars(salaire_jean, 1.16)"
   ]
  },
  {
   "cell_type": "code",
   "execution_count": null,
   "metadata": {
    "ExecuteTime": {
     "end_time": "2018-08-22T08:05:32.699181Z",
     "start_time": "2018-08-22T08:05:32.695184Z"
    }
   },
   "outputs": [],
   "source": [
    "eurosEnDollars(8000)"
   ]
  },
  {
   "cell_type": "markdown",
   "metadata": {},
   "source": [
    "Dans ce cas-ci, ma fonction n'a qu'un seul paramètre, mais je peux en mettre autant que je veux."
   ]
  },
  {
   "cell_type": "code",
   "execution_count": null,
   "metadata": {
    "ExecuteTime": {
     "end_time": "2018-08-22T08:07:10.272167Z",
     "start_time": "2018-08-22T08:07:10.269180Z"
    }
   },
   "outputs": [],
   "source": [
    "def conversionEuroDollars(salaire, taux):\n",
    "    return salaire / taux"
   ]
  },
  {
   "cell_type": "code",
   "execution_count": null,
   "metadata": {
    "ExecuteTime": {
     "end_time": "2018-08-22T08:07:13.906081Z",
     "start_time": "2018-08-22T08:07:13.902098Z"
    }
   },
   "outputs": [],
   "source": [
    "conversionEuroDollars(5000, 1.16)"
   ]
  },
  {
   "cell_type": "markdown",
   "metadata": {},
   "source": [
    "Tant que je respecte l'ordre des paramètres, je n'ai pas besoin de les nommer. Mais si je voulais inverser, il faudrait que je fasse ceci"
   ]
  },
  {
   "cell_type": "code",
   "execution_count": null,
   "metadata": {
    "ExecuteTime": {
     "end_time": "2018-08-22T08:06:51.881811Z",
     "start_time": "2018-08-22T08:06:51.870818Z"
    }
   },
   "outputs": [],
   "source": [
    "conversionEuroDollars(taux=1.20, salaire=6000)"
   ]
  },
  {
   "cell_type": "code",
   "execution_count": null,
   "metadata": {},
   "outputs": [],
   "source": [
    "On peut aussi mettre des valeurs par défaut."
   ]
  },
  {
   "cell_type": "code",
   "execution_count": null,
   "metadata": {
    "ExecuteTime": {
     "end_time": "2018-08-22T06:45:08.280598Z",
     "start_time": "2018-08-22T06:45:08.276601Z"
    }
   },
   "outputs": [],
   "source": [
    "def conversionEuroDollars(salaire, taux_de_change=1.16):\n",
    "    return salaire / taux_de_change"
   ]
  },
  {
   "cell_type": "code",
   "execution_count": null,
   "metadata": {
    "ExecuteTime": {
     "end_time": "2018-08-22T06:45:28.573853Z",
     "start_time": "2018-08-22T06:45:28.568864Z"
    }
   },
   "outputs": [],
   "source": [
    "conversionEuroDollars(salaire_jean)"
   ]
  },
  {
   "cell_type": "code",
   "execution_count": null,
   "metadata": {
    "ExecuteTime": {
     "end_time": "2018-08-22T06:45:49.342186Z",
     "start_time": "2018-08-22T06:45:49.337189Z"
    }
   },
   "outputs": [],
   "source": [
    "conversionEuroDollars(salaire_jean, 1.17)"
   ]
  },
  {
   "cell_type": "markdown",
   "metadata": {},
   "source": [
    "Ici, ma fonction est très simple, c'est juste une division, mais on peut stocker des opérations très longues et très complexes dans une fonction. Et lorsque l'on crée une série de fonctions liées à une tache particulière, on peut les stocker dans un fichier qui s'appelle alors un module ou une bibliothèque. Par exemple, quelqu'un qui fait des maths avancées pourrait se dire : je vais créer plein de fonctions pour faciliter mes calculs et les stocker dans un module qui s'appelle Math. Il existe déjà par défaut dans un python, mais pour l'utiliser il faut d'abord l'importer."
   ]
  },
  {
   "cell_type": "code",
   "execution_count": null,
   "metadata": {
    "ExecuteTime": {
     "end_time": "2018-08-22T08:08:57.519268Z",
     "start_time": "2018-08-22T08:08:57.514271Z"
    }
   },
   "outputs": [],
   "source": [
    "import math\n",
    "\n",
    "math.sqrt(16)"
   ]
  },
  {
   "cell_type": "code",
   "execution_count": null,
   "metadata": {
    "ExecuteTime": {
     "end_time": "2018-08-22T06:50:58.916926Z",
     "start_time": "2018-08-22T06:50:58.912929Z"
    }
   },
   "outputs": [],
   "source": [
    "from math import sqrt\n",
    "\n",
    "sqrt(8)"
   ]
  },
  {
   "cell_type": "markdown",
   "metadata": {},
   "source": [
    "Il existe ainsi des nombreux modules dans Python, et vous pouvez aussi en installer d'autres que vous téléchargé depuis un répértoire sur le web. Par exemple, il existe une bibliothèque Python appellé BeautifulSoup et qui est juste une collection de fonctions qui aident à faire du web scraping. Nous verrons tout à l'heure quelque chose qui lui ressemble beaucoup. Il existe aussi des modules pour faire de l'analyse de données. On notera un nouveau type de structure de données complexe, le \"data frame\"."
   ]
  },
  {
   "cell_type": "code",
   "execution_count": 13,
   "metadata": {
    "ExecuteTime": {
     "end_time": "2018-08-22T09:45:42.119584Z",
     "start_time": "2018-08-22T09:45:42.035633Z"
    },
    "scrolled": true
   },
   "outputs": [
    {
     "data": {
      "application/vnd.jupyter.widget-view+json": {
       "model_id": "17834518d9cf47ea9ce6fca5ac8ed624",
       "version_major": 2,
       "version_minor": 0
      }
     },
     "metadata": {},
     "output_type": "display_data"
    }
   ],
   "source": [
    "from pandas import *\n",
    "\n",
    "titanic = read_excel('titanic3.xls')\n",
    "\n",
    "titanic.head()\n"
   ]
  },
  {
   "cell_type": "code",
   "execution_count": 17,
   "metadata": {
    "ExecuteTime": {
     "end_time": "2018-08-22T09:48:26.206834Z",
     "start_time": "2018-08-22T09:48:26.202817Z"
    }
   },
   "outputs": [
    {
     "data": {
      "text/plain": [
       "29.8811345124283"
      ]
     },
     "execution_count": 17,
     "metadata": {},
     "output_type": "execute_result"
    }
   ],
   "source": [
    "titanic['age'].mean()"
   ]
  },
  {
   "cell_type": "markdown",
   "metadata": {},
   "source": [
    "Que signifient ce \".head()\" et ce \".mean\" ? Sans entrer dans le détail, il existe un type de programmation moderne appelé la programmation orientée objet. Dans ce type de programmation, l'informaticien crée des classes et leur attribue des fonctions par défaut. Ces fonctions s'appellent des méthodes et on les utilise à l'aide d'une notation un peu différente des autres fonctions. Par exemple, les strings constituent en Python une classe, et cette classe possèdent plusieurs méthodes propres."
   ]
  },
  {
   "cell_type": "code",
   "execution_count": null,
   "metadata": {
    "ExecuteTime": {
     "end_time": "2018-08-22T08:10:18.270232Z",
     "start_time": "2018-08-22T08:10:18.266253Z"
    }
   },
   "outputs": [],
   "source": [
    "monNom = \"Ettore\""
   ]
  },
  {
   "cell_type": "code",
   "execution_count": null,
   "metadata": {
    "ExecuteTime": {
     "end_time": "2018-08-22T08:11:08.989925Z",
     "start_time": "2018-08-22T08:11:08.984916Z"
    }
   },
   "outputs": [],
   "source": [
    "monNom.upper()"
   ]
  },
  {
   "cell_type": "markdown",
   "metadata": {},
   "source": [
    "Enfin, terminons cette initiation à l'informatique avec deux éléments essentiels : les structures de controle et les boucles. Les strcutures de contrôle, c'est ce que l'on appelle les IF. ça veut dire \"si\" en anglais. Si quelque chose fait ceci, si quelque chose dautre, fait cela. C'est très important en informatique, c'est comme cela que l'on crée des algorithmes. Quand Facebook vous propose des posts à lire, quelque part à l'intérieur de leur serveur un algorithme stipule que \"If nathalie a cliqué sur cette pub, lui proposer autres pubs du même style. En Python, juste pour vous montrer, ça s'écrit comme ceci."
   ]
  },
  {
   "cell_type": "code",
   "execution_count": null,
   "metadata": {
    "ExecuteTime": {
     "end_time": "2018-08-22T08:29:27.703362Z",
     "start_time": "2018-08-22T08:29:27.698365Z"
    }
   },
   "outputs": [],
   "source": [
    "monNom = \"Ettore\"\n",
    "\n",
    "if len(monNom) < 4:\n",
    "    print('Votre nom a moins de quatre lettres')\n",
    "elif len(monNom) == 4:\n",
    "    print('votre nom a quatre lettres')\n",
    "else:\n",
    "    print('votre nom a plus de quatre lettres')\n",
    "        \n",
    "    "
   ]
  },
  {
   "cell_type": "markdown",
   "metadata": {},
   "source": [
    "Dernière chose avant la pause café, et non la moindre : les boucles. Le grand intérêt d'un ordinateur, c'est de pouvoir automatiser des tâches fastidieuses. Et l'une des manière d'automatiser, c'est de dire \"fais moi quelque chose pour toute la série d'élément que je vais te donner\". Dans Python, ça s'appelle une boucle for."
   ]
  },
  {
   "cell_type": "code",
   "execution_count": null,
   "metadata": {
    "ExecuteTime": {
     "end_time": "2018-08-22T08:16:37.841345Z",
     "start_time": "2018-08-22T08:16:37.836348Z"
    }
   },
   "outputs": [],
   "source": [
    "maListe = [\"ettore\",\"jean\",\"albert\"]\n",
    "\n",
    "for element in maListe:\n",
    "    if len(element)==6:\n",
    "        print(element)"
   ]
  },
  {
   "cell_type": "code",
   "execution_count": null,
   "metadata": {
    "ExecuteTime": {
     "end_time": "2018-08-22T07:09:25.099588Z",
     "start_time": "2018-08-22T07:09:25.096590Z"
    }
   },
   "outputs": [],
   "source": [
    "for i in maListe:\n",
    "    print(len(i))"
   ]
  },
  {
   "cell_type": "markdown",
   "metadata": {},
   "source": [
    "Il existe d'autres types de boucles, par exemple la boucle While (tant que). \"Tant que la lumière n'est pas allumée, fais ceci\". Mais je pense que nous avons vu déjà beaucoup de concepts aujourdh'ui. Nous avons en une demi-heure ce qui normalement devrait être vu en 3h au moins. Ne vous inquiétez pas si vous n'avez pas tout retenu, et certainement pas la syntaxe. Celle-ci, c'est celle de Python que nous n'utiliserons pas aujourd'hui. L'important, c'est que vous reteniez les grands concepts. Récapitulons-les (slide)"
   ]
  }
 ],
 "metadata": {
  "kernelspec": {
   "display_name": "Python 3",
   "language": "python",
   "name": "python3"
  },
  "language_info": {
   "codemirror_mode": {
    "name": "ipython",
    "version": 3
   },
   "file_extension": ".py",
   "mimetype": "text/x-python",
   "name": "python",
   "nbconvert_exporter": "python",
   "pygments_lexer": "ipython3",
   "version": "3.6.5"
  },
  "latex_envs": {
   "LaTeX_envs_menu_present": true,
   "autoclose": false,
   "autocomplete": true,
   "bibliofile": "biblio.bib",
   "cite_by": "apalike",
   "current_citInitial": 1,
   "eqLabelWithNumbers": true,
   "eqNumInitial": 1,
   "hotkeys": {
    "equation": "Ctrl-E",
    "itemize": "Ctrl-I"
   },
   "labels_anchors": false,
   "latex_user_defs": false,
   "report_style_numbering": false,
   "user_envs_cfg": false
  },
  "toc": {
   "base_numbering": 1,
   "nav_menu": {},
   "number_sections": true,
   "sideBar": true,
   "skip_h1_title": false,
   "title_cell": "Table of Contents",
   "title_sidebar": "Contents",
   "toc_cell": false,
   "toc_position": {},
   "toc_section_display": true,
   "toc_window_display": false
  },
  "varInspector": {
   "cols": {
    "lenName": 16,
    "lenType": 16,
    "lenVar": 40
   },
   "kernels_config": {
    "python": {
     "delete_cmd_postfix": "",
     "delete_cmd_prefix": "del ",
     "library": "var_list.py",
     "varRefreshCmd": "print(var_dic_list())"
    },
    "r": {
     "delete_cmd_postfix": ") ",
     "delete_cmd_prefix": "rm(",
     "library": "var_list.r",
     "varRefreshCmd": "cat(var_dic_list()) "
    }
   },
   "types_to_exclude": [
    "module",
    "function",
    "builtin_function_or_method",
    "instance",
    "_Feature"
   ],
   "window_display": false
  }
 },
 "nbformat": 4,
 "nbformat_minor": 2
}
