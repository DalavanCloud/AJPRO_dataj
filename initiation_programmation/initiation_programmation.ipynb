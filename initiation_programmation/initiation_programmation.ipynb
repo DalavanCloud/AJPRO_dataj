{
 "cells": [
  {
   "cell_type": "markdown",
   "metadata": {},
   "source": [
    "# Initiation rapide aux grands concepts de la programmation"
   ]
  },
  {
   "cell_type": "markdown",
   "metadata": {},
   "source": [
    "Tant que votre esprit est frais, et j'espère qu'il l'est toujours, on va commencer avant la pause café par le plus ennuyeux, ou plutôt le plus théorique. Une intiation à l'informatique, ou plutôt à la programmation. Le but n'est pas de faire de vous des programmeurs, tout au plus quelqu'un capable d'écrire un petit script et surtout capable de poser des questions sur des forums en utilisant le bon vocabulaire. Un vernis de culture générale informatique est devenue indispensable  de nos jours, surtout en data journalisme. De plus, les notions que nous allons voir apparaissent même dans un logiciel garnd public comme Excel ou Google Spreadsheet pour peu qu'on commence à explorer ses possibilités  les plus avancées. Donc il est important que vous ayez au moins une idée que ça existe. Que vous les reconnaissiez à la vue."
   ]
  },
  {
   "cell_type": "markdown",
   "metadata": {},
   "source": [
    "Le langage que nous utilisons ici, Python, n'est pas celui avec lequel nous allons travailler tout à l'heure. Si je mélange les deux, ce n'est pas pour vous embrouiller l'esprit, mais pour montrer que les grands concepts sont communs à tous les langages. Ce qui change, c'est la syntaxe, la manière de les écrire."
   ]
  },
  {
   "cell_type": "markdown",
   "metadata": {},
   "source": [
    "Tous les langages peuvent manipuler des types de données primitifs, de base. A commencer par les nombres. La première fonction d'un ordinateur étant de savoir calculer, il peut donc évidemment manipuler des chiffres."
   ]
  },
  {
   "cell_type": "code",
   "execution_count": 1,
   "metadata": {
    "ExecuteTime": {
     "end_time": "2018-08-22T10:27:42.869933Z",
     "start_time": "2018-08-22T10:27:42.857938Z"
    }
   },
   "outputs": [
    {
     "data": {
      "text/plain": [
       "24"
      ]
     },
     "execution_count": 1,
     "metadata": {},
     "output_type": "execute_result"
    }
   ],
   "source": [
    "3*8"
   ]
  },
  {
   "cell_type": "markdown",
   "metadata": {},
   "source": [
    "Parenthèse : Python est ce que l'on appelle un langage intérprêté. Lorsque j'écris une instruction, j'obtiens immédiatement le résultat. Les langages compilés, comme Java ou C++, ne sont pas interactifs. Il faut d'abord par une étape qui s'appelle compilation, et qui transforme le script en langage machine, fait en bout de course de 0 et de 1. Mais ils sont beaucoup plus rapides à l'execution. Fin de la parenthèse."
   ]
  },
  {
   "cell_type": "markdown",
   "metadata": {},
   "source": [
    "Un langage de programmation peut donc effectuer des calculs, même complexes, mais ça, ça n'impressionne plus personne. Vous avez tous des machines à calculer. Mais à la différence d'une calculette, un langage de programmation peut aussi manipuler du texte. C'est ce que l'on appelle en informatique un \"string\", une chaîne de caractères. "
   ]
  },
  {
   "cell_type": "code",
   "execution_count": 113,
   "metadata": {
    "ExecuteTime": {
     "end_time": "2018-08-22T14:11:06.530743Z",
     "start_time": "2018-08-22T14:11:06.526729Z"
    }
   },
   "outputs": [
    {
     "data": {
      "text/plain": [
       "str"
      ]
     },
     "execution_count": 113,
     "metadata": {},
     "output_type": "execute_result"
    }
   ],
   "source": [
    "\"Ettore\""
   ]
  },
  {
   "cell_type": "markdown",
   "metadata": {},
   "source": [
    "Une chaîne de caractères est simplement du texte, qui commence et fini par des guillemets. Peu importe si ce sont des guillemets simples ou doubles, l'important est qu'ils soient équilibrés. Ceci, par exemple, produit une erreur."
   ]
  },
  {
   "cell_type": "code",
   "execution_count": 3,
   "metadata": {
    "ExecuteTime": {
     "end_time": "2018-08-22T10:28:07.827862Z",
     "start_time": "2018-08-22T10:28:07.822867Z"
    }
   },
   "outputs": [
    {
     "ename": "SyntaxError",
     "evalue": "EOL while scanning string literal (<ipython-input-3-4239c17f8f10>, line 1)",
     "output_type": "error",
     "traceback": [
      "\u001b[1;36m  File \u001b[1;32m\"<ipython-input-3-4239c17f8f10>\"\u001b[1;36m, line \u001b[1;32m1\u001b[0m\n\u001b[1;33m    \"Ettore'\u001b[0m\n\u001b[1;37m            ^\u001b[0m\n\u001b[1;31mSyntaxError\u001b[0m\u001b[1;31m:\u001b[0m EOL while scanning string literal\n"
     ]
    }
   ],
   "source": [
    "\"Ettore'"
   ]
  },
  {
   "cell_type": "markdown",
   "metadata": {},
   "source": [
    "Parmis les manipulations qe l'on peut faire subir à du texte, il y a la multiplication ou l'addition."
   ]
  },
  {
   "cell_type": "code",
   "execution_count": 4,
   "metadata": {
    "ExecuteTime": {
     "end_time": "2018-08-22T10:28:11.078682Z",
     "start_time": "2018-08-22T10:28:11.073686Z"
    }
   },
   "outputs": [
    {
     "data": {
      "text/plain": [
       "'EttoreEttoreEttore'"
      ]
     },
     "execution_count": 4,
     "metadata": {},
     "output_type": "execute_result"
    }
   ],
   "source": [
    "\"Ettore\" * 3"
   ]
  },
  {
   "cell_type": "code",
   "execution_count": 5,
   "metadata": {
    "ExecuteTime": {
     "end_time": "2018-08-22T10:28:15.604712Z",
     "start_time": "2018-08-22T10:28:15.599716Z"
    }
   },
   "outputs": [
    {
     "data": {
      "text/plain": [
       "'EttoreRizza'"
      ]
     },
     "execution_count": 5,
     "metadata": {},
     "output_type": "execute_result"
    }
   ],
   "source": [
    "\"Ettore\" + \"Rizza\""
   ]
  },
  {
   "cell_type": "raw",
   "metadata": {},
   "source": [
    "Cette dernière opération s'appelle une **concaténation**. Ici, comme les deux strings sont collés, on pourrait ajouter un espace entre eux - l'espace est un caractère comme les autres."
   ]
  },
  {
   "cell_type": "code",
   "execution_count": 6,
   "metadata": {
    "ExecuteTime": {
     "end_time": "2018-08-22T10:28:21.607265Z",
     "start_time": "2018-08-22T10:28:21.603268Z"
    }
   },
   "outputs": [
    {
     "data": {
      "text/plain": [
       "'Ettore Rizza'"
      ]
     },
     "execution_count": 6,
     "metadata": {},
     "output_type": "execute_result"
    }
   ],
   "source": [
    "\"Ettore\" + \" \" + \"Rizza\""
   ]
  },
  {
   "cell_type": "markdown",
   "metadata": {},
   "source": [
    "Notez que ceci est également un string. Il est juste vide, de longueur zéro, mais c'est un string. "
   ]
  },
  {
   "cell_type": "code",
   "execution_count": 7,
   "metadata": {
    "ExecuteTime": {
     "end_time": "2018-08-22T10:28:24.201754Z",
     "start_time": "2018-08-22T10:28:24.196766Z"
    }
   },
   "outputs": [
    {
     "data": {
      "text/plain": [
       "''"
      ]
     },
     "execution_count": 7,
     "metadata": {},
     "output_type": "execute_result"
    }
   ],
   "source": [
    "\"\""
   ]
  },
  {
   "cell_type": "code",
   "execution_count": 115,
   "metadata": {
    "ExecuteTime": {
     "end_time": "2018-08-22T14:14:24.355005Z",
     "start_time": "2018-08-22T14:14:24.345024Z"
    }
   },
   "outputs": [
    {
     "ename": "TypeError",
     "evalue": "must be str, not int",
     "output_type": "error",
     "traceback": [
      "\u001b[1;31m---------------------------------------------------------------------------\u001b[0m",
      "\u001b[1;31mTypeError\u001b[0m                                 Traceback (most recent call last)",
      "\u001b[1;32m<ipython-input-115-7581076d6721>\u001b[0m in \u001b[0;36m<module>\u001b[1;34m()\u001b[0m\n\u001b[1;32m----> 1\u001b[1;33m \u001b[1;34m\"Ettore\"\u001b[0m \u001b[1;33m+\u001b[0m \u001b[1;36m1\u001b[0m\u001b[1;33m\u001b[0m\u001b[0m\n\u001b[0m",
      "\u001b[1;31mTypeError\u001b[0m: must be str, not int"
     ]
    }
   ],
   "source": [
    "\"Ettore\" + 1"
   ]
  },
  {
   "cell_type": "markdown",
   "metadata": {},
   "source": [
    "Nous verrons par la suite qu'on peut effectuer d'autres opérations sur des strings, mais voyons d'autres types primitifs. Jusqu'ici, nous avons vu les nombres et les chaînes de caractères. En voici un autre qui existe dans tous les langages :"
   ]
  },
  {
   "cell_type": "code",
   "execution_count": 9,
   "metadata": {
    "ExecuteTime": {
     "end_time": "2018-08-22T10:28:37.457743Z",
     "start_time": "2018-08-22T10:28:37.452756Z"
    }
   },
   "outputs": [
    {
     "data": {
      "text/plain": [
       "True"
      ]
     },
     "execution_count": 9,
     "metadata": {},
     "output_type": "execute_result"
    }
   ],
   "source": [
    "3 < 6"
   ]
  },
  {
   "cell_type": "markdown",
   "metadata": {},
   "source": [
    "Si vous avez gardé des souvenirs d'école, vous aurez compris que ce que j'ai écris là signifie 3 est plus petit que 6. En réalité, c'est une sorte de question que j'ai posée à l'ordinateur. J'aurais pu lui demander aussi :"
   ]
  },
  {
   "cell_type": "code",
   "execution_count": 10,
   "metadata": {
    "ExecuteTime": {
     "end_time": "2018-08-22T10:28:39.695007Z",
     "start_time": "2018-08-22T10:28:39.690991Z"
    }
   },
   "outputs": [
    {
     "data": {
      "text/plain": [
       "False"
      ]
     },
     "execution_count": 10,
     "metadata": {},
     "output_type": "execute_result"
    }
   ],
   "source": [
    "3 > 6"
   ]
  },
  {
   "cell_type": "code",
   "execution_count": 11,
   "metadata": {
    "ExecuteTime": {
     "end_time": "2018-08-22T10:28:42.112565Z",
     "start_time": "2018-08-22T10:28:42.106568Z"
    }
   },
   "outputs": [
    {
     "data": {
      "text/plain": [
       "True"
      ]
     },
     "execution_count": 11,
     "metadata": {},
     "output_type": "execute_result"
    }
   ],
   "source": [
    "3 == 3 #nous verrons tout à l'heure pourquoi l'égalité s'écrit avec == plutôt qu'une seul ="
   ]
  },
  {
   "cell_type": "code",
   "execution_count": 12,
   "metadata": {
    "ExecuteTime": {
     "end_time": "2018-08-22T10:28:43.985977Z",
     "start_time": "2018-08-22T10:28:43.981979Z"
    }
   },
   "outputs": [
    {
     "data": {
      "text/plain": [
       "False"
      ]
     },
     "execution_count": 12,
     "metadata": {},
     "output_type": "execute_result"
    }
   ],
   "source": [
    "# le symbole != signifie \"n'est pas égal à\"\n",
    "3 != 3"
   ]
  },
  {
   "cell_type": "code",
   "execution_count": 13,
   "metadata": {
    "ExecuteTime": {
     "end_time": "2018-08-22T10:28:46.057017Z",
     "start_time": "2018-08-22T10:28:46.053021Z"
    }
   },
   "outputs": [
    {
     "data": {
      "text/plain": [
       "True"
      ]
     },
     "execution_count": 13,
     "metadata": {},
     "output_type": "execute_result"
    }
   ],
   "source": [
    "3 <= 3"
   ]
  },
  {
   "cell_type": "code",
   "execution_count": 112,
   "metadata": {
    "ExecuteTime": {
     "end_time": "2018-08-22T14:06:58.803007Z",
     "start_time": "2018-08-22T14:06:58.798011Z"
    }
   },
   "outputs": [
    {
     "data": {
      "text/plain": [
       "False"
      ]
     },
     "execution_count": 112,
     "metadata": {},
     "output_type": "execute_result"
    }
   ],
   "source": [
    "#plus complexe, nous ne verrons pas cela aujourd'hui\n",
    "\n",
    "(3<4) or (5>6) "
   ]
  },
  {
   "cell_type": "markdown",
   "metadata": {},
   "source": [
    "Comme vous le voyez, la réponse à ces questions est toujours soit False, soit True. Ces deux mots sont écrits dans la console sans guillemets autour d'eux. Ce ne sont pas des strings. C'est un type particulier de primitive qu'on appelle des booléens, en l'honneur du mathématicien George Boole. Les booléens ne prennent que deux valeurs, True ou False. Ils sont très importants en informatique puisque, comme vous les savez, un ordinateur raisonne par logique binaire. 0 ou 1, vrai ou faux. Le processeur d'un ordinateur est juste composé de milliards de circuits électriques qui, à un moment donné, sont soit ouverts soit fermés. 1 ou 0. "
   ]
  },
  {
   "cell_type": "markdown",
   "metadata": {},
   "source": [
    "On pourrait citer d'autre \"data types\" primitifs, comme le None (null), mais passons maintenant aux variables. nous avons vu tout à l'heure que l'égalité, en informatique, s'écrit avec deux signes égals. C'est simplement parce que le signe égal tout seul à une autre signifcation. Il sert à affecter une valeur à des variables."
   ]
  },
  {
   "cell_type": "code",
   "execution_count": 14,
   "metadata": {
    "ExecuteTime": {
     "end_time": "2018-08-22T10:28:49.741296Z",
     "start_time": "2018-08-22T10:28:49.738297Z"
    }
   },
   "outputs": [],
   "source": [
    "x = 2"
   ]
  },
  {
   "cell_type": "code",
   "execution_count": 116,
   "metadata": {
    "ExecuteTime": {
     "end_time": "2018-08-22T14:22:06.622502Z",
     "start_time": "2018-08-22T14:22:06.618505Z"
    }
   },
   "outputs": [
    {
     "data": {
      "text/plain": [
       "4"
      ]
     },
     "execution_count": 116,
     "metadata": {},
     "output_type": "execute_result"
    }
   ],
   "source": [
    "x "
   ]
  },
  {
   "cell_type": "markdown",
   "metadata": {},
   "source": [
    "Alors, qu'est-ce ce que je viens de faire ? Ceci ressemble un peu à de l'algèbre comme vous en avez fait à l'école, mais pas du tout. Il faut lire ceci à l'envers. J'ai pris le nombre 2 et, à l'aide du signe égal, je l'ai affecté (c'est le terme) à une varibale que j'ai appelée x mais que j'aurais pu appeler n'importe comment."
   ]
  },
  {
   "cell_type": "code",
   "execution_count": 16,
   "metadata": {
    "ExecuteTime": {
     "end_time": "2018-08-22T10:28:55.485628Z",
     "start_time": "2018-08-22T10:28:55.482613Z"
    }
   },
   "outputs": [],
   "source": [
    "monPrenom = \"Ettore\""
   ]
  },
  {
   "cell_type": "code",
   "execution_count": 17,
   "metadata": {
    "ExecuteTime": {
     "end_time": "2018-08-22T10:28:57.067311Z",
     "start_time": "2018-08-22T10:28:57.062314Z"
    }
   },
   "outputs": [
    {
     "data": {
      "text/plain": [
       "'Ettore'"
      ]
     },
     "execution_count": 17,
     "metadata": {},
     "output_type": "execute_result"
    }
   ],
   "source": [
    "monPrenom"
   ]
  },
  {
   "cell_type": "markdown",
   "metadata": {},
   "source": [
    "Autrement dit, j'ai pris une donnée et je l'ai stockée dans un petit bloc de la mémoire vive de mon ordinateur sous le nom monPrenom (sans espace). Désormais, je peux manipuler monPrenom exactement comme le string \"Ettore\"."
   ]
  },
  {
   "cell_type": "code",
   "execution_count": 18,
   "metadata": {
    "ExecuteTime": {
     "end_time": "2018-08-22T10:29:00.108404Z",
     "start_time": "2018-08-22T10:29:00.103408Z"
    }
   },
   "outputs": [
    {
     "data": {
      "text/plain": [
       "'Ettore Rizza'"
      ]
     },
     "execution_count": 18,
     "metadata": {},
     "output_type": "execute_result"
    }
   ],
   "source": [
    "monPrenom + \" Rizza\""
   ]
  },
  {
   "cell_type": "markdown",
   "metadata": {},
   "source": [
    "C'est très pratique pour manipuler des objets longs. Ici, c'est juste un string court, mais ça pourrait être n'importe quoi. Par exemple, si j'ai besoin de faire des calculs qui impliquent la valeur pi."
   ]
  },
  {
   "cell_type": "code",
   "execution_count": 19,
   "metadata": {
    "ExecuteTime": {
     "end_time": "2018-08-22T10:29:04.981233Z",
     "start_time": "2018-08-22T10:29:04.978236Z"
    }
   },
   "outputs": [],
   "source": [
    "3.14159265358979323846264338327950288419716939937510582"
   ]
  },
  {
   "cell_type": "code",
   "execution_count": 20,
   "metadata": {
    "ExecuteTime": {
     "end_time": "2018-08-22T10:29:06.593013Z",
     "start_time": "2018-08-22T10:29:06.590031Z"
    }
   },
   "outputs": [
    {
     "data": {
      "text/plain": [
       "6.283185307179586"
      ]
     },
     "execution_count": 20,
     "metadata": {},
     "output_type": "execute_result"
    }
   ],
   "source": [
    "2 * pi"
   ]
  },
  {
   "cell_type": "markdown",
   "metadata": {},
   "source": [
    "Attention, une variable peut être remplacée par une autre affectation. C'est d'ailleurs pourquoi on appelle cela une \"variable\" : sa valeur n'est pas fixe."
   ]
  },
  {
   "cell_type": "code",
   "execution_count": 21,
   "metadata": {
    "ExecuteTime": {
     "end_time": "2018-08-22T10:29:09.444316Z",
     "start_time": "2018-08-22T10:29:09.440317Z"
    }
   },
   "outputs": [
    {
     "data": {
      "text/plain": [
       "'Ettore'"
      ]
     },
     "execution_count": 21,
     "metadata": {},
     "output_type": "execute_result"
    }
   ],
   "source": [
    "pi = \"Ettore\"\n",
    "pi"
   ]
  },
  {
   "cell_type": "markdown",
   "metadata": {},
   "source": [
    "Retenons que les variables sont un nom sans espace. Que les majuscules ou minuscules comptent (maliste est différent de MALISTE). Vous pouvez écrire n'importe quoi en évitant juste de commencer par un chiffre et en évitant d'utiliser certains mots réservés. La variable est volatile. Elle n'est pas stockée sur le disque dur. Lorsque vous éteignez Python, tout s'efface. Et la varible peut également être effacée par une nouvelle affectation. Enfin, j'ai utlisé parfois ici la variable x, mais ce n'est pas recommandé de donner aux variables des noms qui ne veulent rien dire. Si quelqu'un relit mon code, il devra se creuser la cervelle pour savoir ce que représente ce x. "
   ]
  },
  {
   "cell_type": "markdown",
   "metadata": {},
   "source": [
    "Nous avons vu quelques type de données primitives, et les variables qui sont juste un nom dans lequel on peut stocker des données. Voyons à présent les données complexes, les structures de données. La plus simple des données complexes, c'est la liste. En python, ce sont simplement des strings, des nombres, des booléens, n'importe quoi, placés entre deux crochets et séparés par des virgules."
   ]
  },
  {
   "cell_type": "code",
   "execution_count": 22,
   "metadata": {
    "ExecuteTime": {
     "end_time": "2018-08-22T10:29:15.735764Z",
     "start_time": "2018-08-22T10:29:15.733765Z"
    }
   },
   "outputs": [],
   "source": [
    "maListe = [\"Jean\",\"Ettore\",1, 2, 3, True]"
   ]
  },
  {
   "cell_type": "code",
   "execution_count": 23,
   "metadata": {
    "ExecuteTime": {
     "end_time": "2018-08-22T10:29:18.108269Z",
     "start_time": "2018-08-22T10:29:18.104261Z"
    }
   },
   "outputs": [
    {
     "data": {
      "text/plain": [
       "['Jean', 'Ettore', 1, 2, 3, True]"
      ]
     },
     "execution_count": 23,
     "metadata": {},
     "output_type": "execute_result"
    }
   ],
   "source": [
    "maListe"
   ]
  },
  {
   "cell_type": "markdown",
   "metadata": {},
   "source": [
    "Ici, par exemple j'ai une liste de prénoms, de nombres, de booléens. Ce type de structure de données, la liste, existe dans tous les langages. Parfois on l'appele un vecteur, un array... Dans Python, il est possible de mélanger les types de données."
   ]
  },
  {
   "cell_type": "markdown",
   "metadata": {},
   "source": [
    "Ceci n'est pas possible dans certains langages, mais Python est conciliant. On peut mélanger les types dans une liste, ça ne produit aucune erreur. La liste est sans doute la structure de données la plus utilisée. Que peut-on faire avec une  liste ? On peut la parcourir, nous le verrons tout à l'heure. Dire à l'ordinateur : \"pour chaque élément de la liste, fais ceci ou cela\". On peut ajouter des éléments, en enlever. On peut la stocker dans une variable.  "
   ]
  },
  {
   "cell_type": "markdown",
   "metadata": {},
   "source": [
    "Et ont peut évidemment sélectionner des éléments dans la liste. Pour cela, la manière la plus commune à tous les langages est d'indiquer entre crochets le numéro de l'élément que vous voulez, ce que l'on appelle son index. Et c'est là qu'intervient l'un des trucs les plus ennuyeux pour les débutants en informatique : le fait que la plupart des langages comptent à partir de zero, et non pas de un. C'est comme ça en Python, en Java, en Javascript... Autrement dit, si je veux le premier élément de ma liste, je dois écrire ceci :"
   ]
  },
  {
   "cell_type": "code",
   "execution_count": 24,
   "metadata": {
    "ExecuteTime": {
     "end_time": "2018-08-22T10:29:22.271559Z",
     "start_time": "2018-08-22T10:29:22.267566Z"
    }
   },
   "outputs": [
    {
     "data": {
      "text/plain": [
       "'Jean'"
      ]
     },
     "execution_count": 24,
     "metadata": {},
     "output_type": "execute_result"
    }
   ],
   "source": [
    "maListe[0]"
   ]
  },
  {
   "cell_type": "code",
   "execution_count": 25,
   "metadata": {
    "ExecuteTime": {
     "end_time": "2018-08-22T10:29:32.842248Z",
     "start_time": "2018-08-22T10:29:32.839248Z"
    }
   },
   "outputs": [
    {
     "data": {
      "text/plain": [
       "'Ettore'"
      ]
     },
     "execution_count": 25,
     "metadata": {},
     "output_type": "execute_result"
    }
   ],
   "source": [
    "maListe[1]"
   ]
  },
  {
   "cell_type": "markdown",
   "metadata": {},
   "source": [
    "On peut aussi compter à partir de la fin"
   ]
  },
  {
   "cell_type": "code",
   "execution_count": 26,
   "metadata": {
    "ExecuteTime": {
     "end_time": "2018-08-22T10:29:35.241229Z",
     "start_time": "2018-08-22T10:29:35.236249Z"
    }
   },
   "outputs": [
    {
     "data": {
      "text/plain": [
       "True"
      ]
     },
     "execution_count": 26,
     "metadata": {},
     "output_type": "execute_result"
    }
   ],
   "source": [
    "maListe[-1]"
   ]
  },
  {
   "cell_type": "markdown",
   "metadata": {},
   "source": [
    "On peut sélectionner plusieurs éléments à la fois avec ce que l'on appelle un slicing"
   ]
  },
  {
   "cell_type": "code",
   "execution_count": 27,
   "metadata": {
    "ExecuteTime": {
     "end_time": "2018-08-22T10:29:37.473581Z",
     "start_time": "2018-08-22T10:29:37.468584Z"
    }
   },
   "outputs": [
    {
     "data": {
      "text/plain": [
       "['Jean', 'Ettore', 1]"
      ]
     },
     "execution_count": 27,
     "metadata": {},
     "output_type": "execute_result"
    }
   ],
   "source": [
    "maListe[0:3]"
   ]
  },
  {
   "cell_type": "markdown",
   "metadata": {},
   "source": [
    "On doit lire ceci comme \"prend les trois premiers éléments à partir de zero. Mais pour l'instant, ne vous encombrez pas l'esprit avec ça."
   ]
  },
  {
   "cell_type": "markdown",
   "metadata": {},
   "source": [
    "La liste semble une structure très simple, mais gardons à l'esprit que la liste peut-être composée d'à peu près n'importe quoi, par exemple... d'une liste de listes."
   ]
  },
  {
   "cell_type": "code",
   "execution_count": 28,
   "metadata": {
    "ExecuteTime": {
     "end_time": "2018-08-22T10:29:43.350930Z",
     "start_time": "2018-08-22T10:29:43.347932Z"
    }
   },
   "outputs": [],
   "source": [
    "maListe = [[1,2,3],[3,4,5]]"
   ]
  },
  {
   "cell_type": "markdown",
   "metadata": {},
   "source": [
    "Et dans ce cas-ci, cette liste contient deux éléments (deux listes) dont la première est maliste[0]"
   ]
  },
  {
   "cell_type": "code",
   "execution_count": 29,
   "metadata": {
    "ExecuteTime": {
     "end_time": "2018-08-22T10:29:45.484216Z",
     "start_time": "2018-08-22T10:29:45.481198Z"
    }
   },
   "outputs": [
    {
     "data": {
      "text/plain": [
       "[1, 2, 3]"
      ]
     },
     "execution_count": 29,
     "metadata": {},
     "output_type": "execute_result"
    }
   ],
   "source": [
    "maListe[0]"
   ]
  },
  {
   "cell_type": "markdown",
   "metadata": {},
   "source": [
    "Il existe d'autres structures de données que la liste. Les set, les tuple... Une qui est très importante, c'est ce que l'on appelle le dictionnaire. Dans un dictionnaire comme Le Robert, vous avez des mots en gras, deux points, suivi de leur définition. Parfois, il y a plusieurs définitions, ou des données annexes comme l'étymologie du mot. Un dictionnaire informatique suit la même logique. En python, il s'écrit entre accolades."
   ]
  },
  {
   "cell_type": "code",
   "execution_count": 30,
   "metadata": {
    "ExecuteTime": {
     "end_time": "2018-08-22T10:29:48.008898Z",
     "start_time": "2018-08-22T10:29:48.005915Z"
    }
   },
   "outputs": [],
   "source": [
    "monDictionnaire = {\"Ettore\":\"Bruxelles\", \"Julie\": \"Charleroi\"}"
   ]
  },
  {
   "cell_type": "markdown",
   "metadata": {},
   "source": [
    "Ceci pourrait être un dictionnaire d'adresses. Ettore ou Julie, c'est la clé, et Bruxelles ou Charleroi, c'est la valeur. Si je veux dans ce cas-ci l'adresse de Ettore, je tape ceci."
   ]
  },
  {
   "cell_type": "code",
   "execution_count": 31,
   "metadata": {
    "ExecuteTime": {
     "end_time": "2018-08-22T10:29:49.911651Z",
     "start_time": "2018-08-22T10:29:49.908651Z"
    }
   },
   "outputs": [
    {
     "data": {
      "text/plain": [
       "'Bruxelles'"
      ]
     },
     "execution_count": 31,
     "metadata": {},
     "output_type": "execute_result"
    }
   ],
   "source": [
    "monDictionnaire['Ettore']"
   ]
  },
  {
   "cell_type": "markdown",
   "metadata": {},
   "source": [
    "Un peu comme la liste, le dictionnaire semble une structure très simple. Sauf que si la clé est unique, sa valeur peut être n'mporte, et même un autre dictionnaire !"
   ]
  },
  {
   "cell_type": "code",
   "execution_count": 32,
   "metadata": {
    "ExecuteTime": {
     "end_time": "2018-08-22T10:29:52.679286Z",
     "start_time": "2018-08-22T10:29:52.676270Z"
    }
   },
   "outputs": [],
   "source": [
    "monDictionnaire = {\"Ettore\":{\"age\":43, \"adresse\":\"Bruxelles\"}, \n",
    "                   \"Jean\":{\"age\":25, \"adresse\":\"Charleroi\"}}"
   ]
  },
  {
   "cell_type": "markdown",
   "metadata": {},
   "source": [
    "Et dans ce cas là, pour retrouver la profession il me faudra suivre toute la chaîne en idniquant les clés entre crochets, puis encore la clé de la valeur exacte que je souhaite."
   ]
  },
  {
   "cell_type": "code",
   "execution_count": 33,
   "metadata": {
    "ExecuteTime": {
     "end_time": "2018-08-22T10:29:54.764258Z",
     "start_time": "2018-08-22T10:29:54.759261Z"
    }
   },
   "outputs": [
    {
     "data": {
      "text/plain": [
       "43"
      ]
     },
     "execution_count": 33,
     "metadata": {},
     "output_type": "execute_result"
    }
   ],
   "source": [
    "monDictionnaire['Ettore']['adresse']"
   ]
  },
  {
   "cell_type": "markdown",
   "metadata": {},
   "source": [
    "Je n'irai pas plus loin pour les dictionnaires, que nous n'utilsierons pas vraiment aujourdh'ui. Si je vous en parle, c'est parce que cette structure de données existe aussi en Javascript sous le nom de JSON. Et ça, c'est un élément très important du web. Parce que c'est souvent sous la forme d'un fichier Json que les pages web communiquent avec un serveur pour échanger des données. Nous verrons cela tout à l'heure."
   ]
  },
  {
   "cell_type": "code",
   "execution_count": null,
   "metadata": {},
   "outputs": [],
   "source": [
    "{\n",
    "\"Brussels\": [ \n",
    "       { \n",
    "        \"adminCode\": \"BRU\",\n",
    "        \"adminNameFr\": \"Bruxelles\",\n",
    "        \"lng\": 4.34878349304199,\n",
    "        \"lat\": 50.8504450552593,\n",
    "        \"countryCode\": \"BE\",\n",
    "        \"postalcode\": \"1000\",\n",
    "        \"adminName1\": \"Bruxelles-Capitale\",\n",
    "        \"Aliases\": [\"Bruxelles\",\n",
    "                    \"Brussels\", \n",
    "                    \"Stadt Brüssel\"]\n",
    "        \n",
    "        }\n",
    " ]\n",
    "}"
   ]
  },
  {
   "cell_type": "markdown",
   "metadata": {},
   "source": [
    "Avançons avec un autre concept essentiel : les fonctions. Une fonction, c'est un peu comme une variable, mais qui au lieu de stocker des données stocke des instrcutions informatiques. je vais vous montrer tout de suite l'utilité. Admettons que j'aie une variable contenant un salaire en euros, et que je veuille le convertir en dollars au taux du jour."
   ]
  },
  {
   "cell_type": "code",
   "execution_count": 34,
   "metadata": {
    "ExecuteTime": {
     "end_time": "2018-08-22T10:30:10.501013Z",
     "start_time": "2018-08-22T10:30:10.496017Z"
    }
   },
   "outputs": [],
   "source": [
    "salaire_jean= 1000\n",
    "salaire_jean_dollars = salaire_jean / 1.16"
   ]
  },
  {
   "cell_type": "code",
   "execution_count": 35,
   "metadata": {
    "ExecuteTime": {
     "end_time": "2018-08-22T10:30:12.165840Z",
     "start_time": "2018-08-22T10:30:12.160832Z"
    }
   },
   "outputs": [
    {
     "data": {
      "text/plain": [
       "862.0689655172414"
      ]
     },
     "execution_count": 35,
     "metadata": {},
     "output_type": "execute_result"
    }
   ],
   "source": [
    "salaire_jean_dollars"
   ]
  },
  {
   "cell_type": "code",
   "execution_count": 36,
   "metadata": {
    "ExecuteTime": {
     "end_time": "2018-08-22T10:30:15.152236Z",
     "start_time": "2018-08-22T10:30:15.149224Z"
    }
   },
   "outputs": [],
   "source": [
    "salaire_julie= 2500\n",
    "salaire_julie_dollars = salaire_julie / 1.16"
   ]
  },
  {
   "cell_type": "code",
   "execution_count": 37,
   "metadata": {
    "ExecuteTime": {
     "end_time": "2018-08-22T10:30:17.453063Z",
     "start_time": "2018-08-22T10:30:17.449080Z"
    }
   },
   "outputs": [
    {
     "data": {
      "text/plain": [
       "2155.1724137931037"
      ]
     },
     "execution_count": 37,
     "metadata": {},
     "output_type": "execute_result"
    }
   ],
   "source": [
    "salaire_julie_dollars"
   ]
  },
  {
   "cell_type": "markdown",
   "metadata": {},
   "source": [
    "Tant que je ne dois le faire que pour deux personnes, ça va. Mais s'il y en avait trois, ou dix, ou cent, vous vous rendez bien compte que ça poserait problème. De un parce que je me répète, et les informaticiens détestent ça. Ce sont de grands paresseux. De deux parce que je risque des erreurs. De trois, admlettons que le taux de conversion change demain, hé bien je devrai changer 1.16 partout. ça ne va pas du tout. La solution consisterait à stocker le calcul dans une fonction. Voici comment on fait en Python."
   ]
  },
  {
   "cell_type": "code",
   "execution_count": 38,
   "metadata": {
    "ExecuteTime": {
     "end_time": "2018-08-22T10:30:22.012103Z",
     "start_time": "2018-08-22T10:30:22.009087Z"
    }
   },
   "outputs": [],
   "source": [
    "def eurosEnDollars(salaire):\n",
    "    \"\"\"convertisseur de salaire en euros en dollars\"\"\"\n",
    "    return salaire / 1.16"
   ]
  },
  {
   "cell_type": "code",
   "execution_count": 39,
   "metadata": {
    "ExecuteTime": {
     "end_time": "2018-08-22T10:30:27.805580Z",
     "start_time": "2018-08-22T10:30:27.800583Z"
    }
   },
   "outputs": [
    {
     "data": {
      "text/plain": [
       "862.0689655172414"
      ]
     },
     "execution_count": 39,
     "metadata": {},
     "output_type": "execute_result"
    }
   ],
   "source": [
    "eurosEnDollars(salaire_jean)"
   ]
  },
  {
   "cell_type": "code",
   "execution_count": 40,
   "metadata": {
    "ExecuteTime": {
     "end_time": "2018-08-22T10:30:33.580839Z",
     "start_time": "2018-08-22T10:30:33.575842Z"
    }
   },
   "outputs": [
    {
     "data": {
      "text/plain": [
       "6896.551724137931"
      ]
     },
     "execution_count": 40,
     "metadata": {},
     "output_type": "execute_result"
    }
   ],
   "source": [
    "eurosEnDollars(8000)"
   ]
  },
  {
   "cell_type": "markdown",
   "metadata": {},
   "source": [
    "Dans ce cas-ci, ma fonction n'a qu'un seul paramètre, mais je peux en mettre autant que je veux."
   ]
  },
  {
   "cell_type": "code",
   "execution_count": 41,
   "metadata": {
    "ExecuteTime": {
     "end_time": "2018-08-22T10:30:38.347817Z",
     "start_time": "2018-08-22T10:30:38.343805Z"
    }
   },
   "outputs": [],
   "source": [
    "def conversionEuroDollars(salaire, taux):\n",
    "    return salaire / taux"
   ]
  },
  {
   "cell_type": "code",
   "execution_count": 42,
   "metadata": {
    "ExecuteTime": {
     "end_time": "2018-08-22T10:30:40.655935Z",
     "start_time": "2018-08-22T10:30:40.651938Z"
    }
   },
   "outputs": [
    {
     "data": {
      "text/plain": [
       "4310.344827586207"
      ]
     },
     "execution_count": 42,
     "metadata": {},
     "output_type": "execute_result"
    }
   ],
   "source": [
    "conversionEuroDollars(5000, 1.16)"
   ]
  },
  {
   "cell_type": "markdown",
   "metadata": {},
   "source": [
    "Tant que je respecte l'ordre des paramètres, je n'ai pas besoin de les nommer. Mais si je voulais inverser, il faudrait que je fasse ceci"
   ]
  },
  {
   "cell_type": "code",
   "execution_count": 43,
   "metadata": {
    "ExecuteTime": {
     "end_time": "2018-08-22T10:30:44.571957Z",
     "start_time": "2018-08-22T10:30:44.568945Z"
    }
   },
   "outputs": [
    {
     "data": {
      "text/plain": [
       "5000.0"
      ]
     },
     "execution_count": 43,
     "metadata": {},
     "output_type": "execute_result"
    }
   ],
   "source": [
    "conversionEuroDollars(taux=1.20, salaire=6000)"
   ]
  },
  {
   "cell_type": "code",
   "execution_count": null,
   "metadata": {},
   "outputs": [],
   "source": [
    "On peut aussi mettre des valeurs par défaut."
   ]
  },
  {
   "cell_type": "code",
   "execution_count": 44,
   "metadata": {
    "ExecuteTime": {
     "end_time": "2018-08-22T10:30:47.651108Z",
     "start_time": "2018-08-22T10:30:47.648126Z"
    }
   },
   "outputs": [],
   "source": [
    "def conversionEuroDollars(salaire, taux_de_change=1.16):\n",
    "    return salaire / taux_de_change"
   ]
  },
  {
   "cell_type": "code",
   "execution_count": 45,
   "metadata": {
    "ExecuteTime": {
     "end_time": "2018-08-22T10:30:52.047371Z",
     "start_time": "2018-08-22T10:30:52.042360Z"
    }
   },
   "outputs": [
    {
     "data": {
      "text/plain": [
       "862.0689655172414"
      ]
     },
     "execution_count": 45,
     "metadata": {},
     "output_type": "execute_result"
    }
   ],
   "source": [
    "conversionEuroDollars(salaire_jean)"
   ]
  },
  {
   "cell_type": "code",
   "execution_count": 46,
   "metadata": {
    "ExecuteTime": {
     "end_time": "2018-08-22T10:30:54.803225Z",
     "start_time": "2018-08-22T10:30:54.799211Z"
    }
   },
   "outputs": [
    {
     "data": {
      "text/plain": [
       "854.7008547008547"
      ]
     },
     "execution_count": 46,
     "metadata": {},
     "output_type": "execute_result"
    }
   ],
   "source": [
    "conversionEuroDollars(salaire_jean, 1.17)"
   ]
  },
  {
   "cell_type": "markdown",
   "metadata": {},
   "source": [
    "Ici, ma fonction est très simple, c'est juste une division, mais on peut stocker des opérations très longues et très complexes dans une fonction. Et lorsque l'on crée une série de fonctions liées à une tache particulière, on peut les stocker dans un fichier qui s'appelle alors un module ou une bibliothèque. Par exemple, quelqu'un qui a souvent besoin de générer des chiffres aléatoires pourrait se dire : je vais créer plein de fonctions pour faciliter ce que je dois faire et les stocker dans un module qui s'appelle random. Il existe déjà par défaut dans un python, mais pour l'utiliser il faut d'abord l'importer."
   ]
  },
  {
   "cell_type": "code",
   "execution_count": 110,
   "metadata": {
    "ExecuteTime": {
     "end_time": "2018-08-22T12:32:19.270915Z",
     "start_time": "2018-08-22T12:32:16.176794Z"
    }
   },
   "outputs": [
    {
     "name": "stdout",
     "output_type": "stream",
     "text": [
      "Quel est votre nom ? Aline\n",
      "Bonjour Aline, vous ressemblez à la Belle au Bois Dormant!\n"
     ]
    }
   ],
   "source": [
    "import random\n",
    "\n",
    "ma_liste_a_la_noix = [\"Pocahontas\", \n",
    "                     \"Cendrillon\", \n",
    "                     \"Blanche-Neige\", \n",
    "                     \"Mulan\",\n",
    "                      \"la Belle au Bois Dormant\",\n",
    "                    \"ma tante\"]\n",
    "\n",
    "choix = input(\"Quel est votre nom ? \")\n",
    "\n",
    "print(\"Bonjour \" + choix +  \", vous ressemblez à \" + random.choice(ma_liste_a_la_noix) + \"!\")"
   ]
  },
  {
   "cell_type": "markdown",
   "metadata": {},
   "source": [
    "Il existe ainsi des nombreux modules dans Python, et vous pouvez aussi en installer d'autres que vous téléchargerez depuis un répértoire sur le web. Par exemple, il existe une bibliothèque Python appellée BeautifulSoup et qui est juste une collection de fonctions qui aident à faire du web scraping. Nous verrons tout à l'heure quelque chose qui lui ressemble beaucoup. Il existe aussi des modules pour faire de l'analyse de données. On notera un nouveau type de structure de données complexe, le \"data frame\"."
   ]
  },
  {
   "cell_type": "code",
   "execution_count": 49,
   "metadata": {
    "ExecuteTime": {
     "end_time": "2018-08-22T10:31:14.451522Z",
     "start_time": "2018-08-22T10:31:14.233647Z"
    },
    "scrolled": true
   },
   "outputs": [
    {
     "data": {
      "application/vnd.jupyter.widget-view+json": {
       "model_id": "ca266707686f4a31b2da513e31e07658",
       "version_major": 2,
       "version_minor": 0
      }
     },
     "metadata": {},
     "output_type": "display_data"
    }
   ],
   "source": [
    "from pandas import *\n",
    "\n",
    "titanic = read_excel('titanic3.xls')\n",
    "\n",
    "titanic.head()\n"
   ]
  },
  {
   "cell_type": "code",
   "execution_count": 51,
   "metadata": {
    "ExecuteTime": {
     "end_time": "2018-08-22T10:31:44.969485Z",
     "start_time": "2018-08-22T10:31:44.965508Z"
    }
   },
   "outputs": [
    {
     "data": {
      "text/plain": [
       "29.8811345124283"
      ]
     },
     "execution_count": 51,
     "metadata": {},
     "output_type": "execute_result"
    }
   ],
   "source": [
    "titanic['age'].mean()"
   ]
  },
  {
   "cell_type": "code",
   "execution_count": 76,
   "metadata": {
    "ExecuteTime": {
     "end_time": "2018-08-22T10:49:32.039846Z",
     "start_time": "2018-08-22T10:49:32.034849Z"
    }
   },
   "outputs": [
    {
     "data": {
      "text/plain": [
       "0.1667"
      ]
     },
     "execution_count": 76,
     "metadata": {},
     "output_type": "execute_result"
    }
   ],
   "source": [
    "titanic['age'].min()"
   ]
  },
  {
   "cell_type": "markdown",
   "metadata": {},
   "source": [
    "Que signifient ce \".head()\" et ce \".mean()\" ou ce \".min()\" ? Sans entrer dans le détail, il existe un type de programmation moderne appelé la programmation orientée objet. Dans ce type de programmation, l'informaticien crée des classes et leur attribue des fonctions par défaut. Ces fonctions s'appellent des méthodes et on les utilise à l'aide d'une notation un peu différente des autres fonctions. Par exemple, les strings constituent en Python une classe, et cette classe possèdent plusieurs méthodes propres."
   ]
  },
  {
   "cell_type": "code",
   "execution_count": 54,
   "metadata": {
    "ExecuteTime": {
     "end_time": "2018-08-22T10:32:10.778381Z",
     "start_time": "2018-08-22T10:32:10.775384Z"
    }
   },
   "outputs": [],
   "source": [
    "monNom = \"Ettore\""
   ]
  },
  {
   "cell_type": "code",
   "execution_count": 55,
   "metadata": {
    "ExecuteTime": {
     "end_time": "2018-08-22T10:32:12.699907Z",
     "start_time": "2018-08-22T10:32:12.694910Z"
    }
   },
   "outputs": [
    {
     "data": {
      "text/plain": [
       "'ETTORE'"
      ]
     },
     "execution_count": 55,
     "metadata": {},
     "output_type": "execute_result"
    }
   ],
   "source": [
    "monNom.upper()"
   ]
  },
  {
   "cell_type": "code",
   "execution_count": 107,
   "metadata": {
    "ExecuteTime": {
     "end_time": "2018-08-22T11:41:44.479301Z",
     "start_time": "2018-08-22T11:41:44.475312Z"
    }
   },
   "outputs": [
    {
     "data": {
      "text/plain": [
       "'PAUL'"
      ]
     },
     "execution_count": 107,
     "metadata": {},
     "output_type": "execute_result"
    }
   ],
   "source": [
    "\"Paul\".replace('u', 'i')"
   ]
  },
  {
   "cell_type": "markdown",
   "metadata": {},
   "source": [
    "Enfin, terminons cette initiation à l'informatique avec deux éléments essentiels : les structures de controle et les boucles. Les strcutures de contrôle, c'est ce que l'on appelle les IF. ça veut dire \"si\" en anglais. Si quelque chose fait ceci, si quelque chose dautre, fait cela. C'est très important en informatique, c'est comme cela que l'on crée des algorithmes. Quand Facebook vous propose des posts à lire, quelque part à l'intérieur de leur serveur un algorithme stipule que \"If nathalie a cliqué sur cette pub, lui proposer autres pubs du même style. En Python, juste pour vous montrer, ça s'écrit comme ceci."
   ]
  },
  {
   "cell_type": "code",
   "execution_count": 88,
   "metadata": {
    "ExecuteTime": {
     "end_time": "2018-08-22T11:24:08.974459Z",
     "start_time": "2018-08-22T11:24:08.971462Z"
    }
   },
   "outputs": [
    {
     "name": "stdout",
     "output_type": "stream",
     "text": [
      "C'est vrai\n"
     ]
    }
   ],
   "source": [
    "if 5 < 6:\n",
    "    print(\"C'est vrai\")"
   ]
  },
  {
   "cell_type": "markdown",
   "metadata": {},
   "source": [
    "Exemple plus réaliste..."
   ]
  },
  {
   "cell_type": "code",
   "execution_count": 87,
   "metadata": {
    "ExecuteTime": {
     "end_time": "2018-08-22T11:23:29.818499Z",
     "start_time": "2018-08-22T11:23:24.189106Z"
    }
   },
   "outputs": [
    {
     "name": "stdout",
     "output_type": "stream",
     "text": [
      "Indiquez votre nom: Albert\n",
      "votre nom a plus de quatre lettres\n"
     ]
    }
   ],
   "source": [
    "monNom = input(\"Indiquez votre nom: \")\n",
    "\n",
    "if len(monNom) < 4:\n",
    "    print('votre nom a moins de quatre lettres')\n",
    "elif len(monNom) == 4:\n",
    "    print('votre nom a quatre lettres')\n",
    "else:\n",
    "    print('votre nom a plus de quatre lettres')\n",
    "        \n",
    "    "
   ]
  },
  {
   "cell_type": "markdown",
   "metadata": {},
   "source": [
    "Dernière chose avant la pause café, et non la moindre : les boucles. Le grand intérêt d'un ordinateur, c'est de pouvoir automatiser des tâches fastidieuses. Et l'une des manière d'automatiser, c'est de dire \"fais moi quelque chose pour toute la série d'élément que je vais te donner\". Dans Python, ça s'appelle une boucle for."
   ]
  },
  {
   "cell_type": "code",
   "execution_count": 69,
   "metadata": {
    "ExecuteTime": {
     "end_time": "2018-08-22T10:41:58.474367Z",
     "start_time": "2018-08-22T10:41:58.469372Z"
    }
   },
   "outputs": [
    {
     "name": "stdout",
     "output_type": "stream",
     "text": [
      "ettore\n",
      "jean\n",
      "albert\n",
      "nabuchodonosor\n"
     ]
    }
   ],
   "source": [
    "maListe = [\"ettore\",\"jean\",\"albert\", \"nabuchodonosor\"]\n",
    "\n",
    "for element in maListe:\n",
    "    print(element)"
   ]
  },
  {
   "cell_type": "code",
   "execution_count": 70,
   "metadata": {
    "ExecuteTime": {
     "end_time": "2018-08-22T10:42:00.913978Z",
     "start_time": "2018-08-22T10:42:00.909989Z"
    }
   },
   "outputs": [
    {
     "name": "stdout",
     "output_type": "stream",
     "text": [
      "ettore\n",
      "albert\n",
      "nabuchodonosor\n"
     ]
    }
   ],
   "source": [
    "for element in maListe:\n",
    "    if len(element) >= 6:\n",
    "        print(element)"
   ]
  },
  {
   "cell_type": "markdown",
   "metadata": {},
   "source": [
    "Evidemment, on peut faire autre chose que de simplement afficher les noms à l'écran. Par exemple, on peut créer une nouvelle liste où l'on stockera les noms d'au moins six lettres."
   ]
  },
  {
   "cell_type": "code",
   "execution_count": 71,
   "metadata": {
    "ExecuteTime": {
     "end_time": "2018-08-22T10:42:08.679834Z",
     "start_time": "2018-08-22T10:42:08.673838Z"
    }
   },
   "outputs": [
    {
     "data": {
      "text/plain": [
       "['ettore', 'albert', 'nabuchodonosor']"
      ]
     },
     "execution_count": 71,
     "metadata": {},
     "output_type": "execute_result"
    }
   ],
   "source": [
    "au_moins_6_lettres = []\n",
    "for element in maListe:\n",
    "    if len(element) >= 6:\n",
    "        au_moins_6_lettres.append(element)\n",
    "    \n",
    "au_moins_6_lettres"
   ]
  },
  {
   "cell_type": "markdown",
   "metadata": {},
   "source": [
    "Il existe d'autres types de boucles, par exemple la boucle While (tant que). \"Tant que la lumière n'est pas allumée, fais ceci\". Mais je pense que nous avons vu déjà beaucoup de concepts aujourdh'ui. Nous avons en une demi-heure ce qui normalement devrait être vu en 3h au moins. Ne vous inquiétez pas si vous n'avez pas tout retenu, et certainement pas la syntaxe. Celle-ci, c'est celle de Python que nous n'utiliserons pas aujourd'hui. L'important, c'est que vous reteniez les grands concepts. Récapitulons-les (slide)"
   ]
  }
 ],
 "metadata": {
  "kernelspec": {
   "display_name": "Python 3",
   "language": "python",
   "name": "python3"
  },
  "language_info": {
   "codemirror_mode": {
    "name": "ipython",
    "version": 3
   },
   "file_extension": ".py",
   "mimetype": "text/x-python",
   "name": "python",
   "nbconvert_exporter": "python",
   "pygments_lexer": "ipython3",
   "version": "3.6.5"
  },
  "latex_envs": {
   "LaTeX_envs_menu_present": true,
   "autoclose": false,
   "autocomplete": true,
   "bibliofile": "biblio.bib",
   "cite_by": "apalike",
   "current_citInitial": 1,
   "eqLabelWithNumbers": true,
   "eqNumInitial": 1,
   "hotkeys": {
    "equation": "Ctrl-E",
    "itemize": "Ctrl-I"
   },
   "labels_anchors": false,
   "latex_user_defs": false,
   "report_style_numbering": false,
   "user_envs_cfg": false
  },
  "toc": {
   "base_numbering": 1,
   "nav_menu": {},
   "number_sections": true,
   "sideBar": true,
   "skip_h1_title": false,
   "title_cell": "Table of Contents",
   "title_sidebar": "Contents",
   "toc_cell": false,
   "toc_position": {},
   "toc_section_display": true,
   "toc_window_display": false
  },
  "varInspector": {
   "cols": {
    "lenName": 16,
    "lenType": 16,
    "lenVar": 40
   },
   "kernels_config": {
    "python": {
     "delete_cmd_postfix": "",
     "delete_cmd_prefix": "del ",
     "library": "var_list.py",
     "varRefreshCmd": "print(var_dic_list())"
    },
    "r": {
     "delete_cmd_postfix": ") ",
     "delete_cmd_prefix": "rm(",
     "library": "var_list.r",
     "varRefreshCmd": "cat(var_dic_list()) "
    }
   },
   "types_to_exclude": [
    "module",
    "function",
    "builtin_function_or_method",
    "instance",
    "_Feature"
   ],
   "window_display": false
  }
 },
 "nbformat": 4,
 "nbformat_minor": 2
}
